{
 "cells": [
  {
   "cell_type": "code",
   "execution_count": 4,
   "id": "fe9b705d",
   "metadata": {},
   "outputs": [],
   "source": [
    "import numpy as np\n"
   ]
  },
  {
   "cell_type": "code",
   "execution_count": 7,
   "id": "458fde35",
   "metadata": {},
   "outputs": [
    {
     "name": "stdout",
     "output_type": "stream",
     "text": [
      "[ 8 12 16]\n"
     ]
    }
   ],
   "source": [
    "# Scaler Multiplication\n",
    "\n",
    "def scaler_mul(scaler, vecore):\n",
    "    print(np.multiply(vecore, scaler))\n",
    "v = [2, 3, 4]\n",
    "s = 4\n",
    "scaler_mul(s, v)"
   ]
  },
  {
   "cell_type": "code",
   "execution_count": null,
   "id": "f3dc0529",
   "metadata": {},
   "outputs": [],
   "source": [
    "# Element-Wise Multiplication\n",
    "\n"
   ]
  }
 ],
 "metadata": {
  "kernelspec": {
   "display_name": "Python 3 (ipykernel)",
   "language": "python",
   "name": "python3"
  },
  "language_info": {
   "codemirror_mode": {
    "name": "ipython",
    "version": 3
   },
   "file_extension": ".py",
   "mimetype": "text/x-python",
   "name": "python",
   "nbconvert_exporter": "python",
   "pygments_lexer": "ipython3",
   "version": "3.11.5"
  }
 },
 "nbformat": 4,
 "nbformat_minor": 5
}
