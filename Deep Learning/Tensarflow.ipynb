{
 "cells": [
  {
   "cell_type": "code",
   "execution_count": 58,
   "id": "be537f68",
   "metadata": {},
   "outputs": [
    {
     "name": "stdout",
     "output_type": "stream",
     "text": [
      "10\n",
      "3.4\n",
      "b'This is Tensorflow'\n"
     ]
    }
   ],
   "source": [
    "import tensorflow.compat.v1 as tf\n",
    "tf.disable_v2_behavior()\n",
    "\n",
    "# Constants \n",
    "const1 = tf.constant(10)\n",
    "const2 = tf.constant(3.40)\n",
    "const3 = tf.constant(\"This is Tensorflow\")\n",
    "const4 = tf.constant(False)\n",
    "\n",
    "# Create a session\n",
    "sess = tf.Session()\n",
    "\n",
    "# Run and print the constants\n",
    "print(sess.run(const1))\n",
    "print(sess.run(const2))\n",
    "print(sess.run(const3))\n"
   ]
  },
  {
   "cell_type": "code",
   "execution_count": 59,
   "id": "5e423d82",
   "metadata": {},
   "outputs": [
    {
     "data": {
      "text/plain": [
       "[70, 1500]"
      ]
     },
     "execution_count": 59,
     "metadata": {},
     "output_type": "execute_result"
    }
   ],
   "source": [
    "# Operations \n",
    "Addition = tf.constant(30) + tf.constant(40)\n",
    "multplication = tf.constant(50) * tf.constant(30)\n",
    "sess.run([Addition , multplication])"
   ]
  },
  {
   "cell_type": "code",
   "execution_count": 61,
   "id": "3436a459",
   "metadata": {},
   "outputs": [
    {
     "data": {
      "text/plain": [
       "[array([7, 7, 7, 7, 7, 7]), array([5, 8, 9, 8, 5])]"
      ]
     },
     "execution_count": 61,
     "metadata": {},
     "output_type": "execute_result"
    }
   ],
   "source": [
    "Addition = tf.constant([1,2,3,4,5,6]) + tf.constant([6,5,4,3,2,1])\n",
    "Multiplication = tf.constant([1,2,3,4,5]) * tf.constant([5,4,3,2,1])\n",
    "\n",
    "sess.run([Addition , Multiplication])"
   ]
  },
  {
   "cell_type": "code",
   "execution_count": 62,
   "id": "c75b32c4",
   "metadata": {},
   "outputs": [
    {
     "data": {
      "text/plain": [
       "b'I love My self '"
      ]
     },
     "execution_count": 62,
     "metadata": {},
     "output_type": "execute_result"
    }
   ],
   "source": [
    "str1 = tf.constant(\"I love \")\n",
    "str2 = tf.constant(\"My self \")\n",
    "sess.run(str1 + str2)"
   ]
  },
  {
   "cell_type": "code",
   "execution_count": 66,
   "id": "78ec924d",
   "metadata": {},
   "outputs": [
    {
     "data": {
      "text/plain": [
       "15"
      ]
     },
     "execution_count": 66,
     "metadata": {},
     "output_type": "execute_result"
    }
   ],
   "source": [
    "# PlaceHolder\n",
    "a = tf.placeholder(tf.int32)\n",
    "b = a*3\n",
    "sess.run(b, feed_dict={a:5})\n",
    "\n"
   ]
  },
  {
   "cell_type": "code",
   "execution_count": 71,
   "id": "d942b2a3",
   "metadata": {},
   "outputs": [
    {
     "data": {
      "text/plain": [
       "b'im Good boy'"
      ]
     },
     "execution_count": 71,
     "metadata": {},
     "output_type": "execute_result"
    }
   ],
   "source": [
    "str_name =tf.placeholder(tf.string)\n",
    "my_name = \"im \" + str_name  \n",
    "sess.run(my_name, feed_dict={str_name:\"Good boy\"})\n"
   ]
  },
  {
   "cell_type": "code",
   "execution_count": 76,
   "id": "28c82fb8",
   "metadata": {},
   "outputs": [
    {
     "data": {
      "text/plain": [
       "array([3])"
      ]
     },
     "execution_count": 76,
     "metadata": {},
     "output_type": "execute_result"
    }
   ],
   "source": [
    "a = tf.Variable([3], tf.int32)\n",
    "init = tf.global_variables_initializer()\n",
    "sess.run(init)\n",
    "sess.run(a)"
   ]
  },
  {
   "cell_type": "code",
   "execution_count": 87,
   "id": "4044ab8d",
   "metadata": {},
   "outputs": [],
   "source": [
    "# leaer model\n",
    "\n",
    "W = tf.Variable([10], tf.int32)\n",
    "b = tf.Variable([5], tf.int32)\n",
    "x = tf.placeholder(tf.int32)"
   ]
  },
  {
   "cell_type": "code",
   "execution_count": 90,
   "id": "ea33d0f9",
   "metadata": {},
   "outputs": [],
   "source": [
    "linear_model = W*x+b"
   ]
  },
  {
   "cell_type": "code",
   "execution_count": 91,
   "id": "a486be8f",
   "metadata": {},
   "outputs": [],
   "source": [
    "init1 = tf.global_variables_initializer()"
   ]
  },
  {
   "cell_type": "code",
   "execution_count": 92,
   "id": "a2d22bf5",
   "metadata": {},
   "outputs": [],
   "source": [
    "sess.run(init1)"
   ]
  },
  {
   "cell_type": "code",
   "execution_count": 93,
   "id": "a915450c",
   "metadata": {},
   "outputs": [
    {
     "data": {
      "text/plain": [
       "array([15, 25, 35, 45, 55])"
      ]
     },
     "execution_count": 93,
     "metadata": {},
     "output_type": "execute_result"
    }
   ],
   "source": [
    "sess.run(linear_model, feed_dict={x:[1,2,3,4,5]})"
   ]
  },
  {
   "cell_type": "markdown",
   "id": "55e4ab5c",
   "metadata": {},
   "source": [
    "# Tensorflow 2.0"
   ]
  },
  {
   "cell_type": "code",
   "execution_count": null,
   "id": "36b6b84a",
   "metadata": {},
   "outputs": [],
   "source": []
  },
  {
   "cell_type": "code",
   "execution_count": null,
   "id": "4b44217f",
   "metadata": {},
   "outputs": [],
   "source": []
  },
  {
   "cell_type": "code",
   "execution_count": null,
   "id": "72d1aac9",
   "metadata": {},
   "outputs": [],
   "source": []
  },
  {
   "cell_type": "code",
   "execution_count": null,
   "id": "61ec54e1",
   "metadata": {},
   "outputs": [],
   "source": []
  },
  {
   "cell_type": "code",
   "execution_count": null,
   "id": "3058bc8d",
   "metadata": {},
   "outputs": [],
   "source": []
  },
  {
   "cell_type": "code",
   "execution_count": null,
   "id": "24d69d63",
   "metadata": {},
   "outputs": [],
   "source": []
  },
  {
   "cell_type": "code",
   "execution_count": null,
   "id": "010c80e3",
   "metadata": {},
   "outputs": [],
   "source": []
  },
  {
   "cell_type": "code",
   "execution_count": null,
   "id": "778de621",
   "metadata": {},
   "outputs": [],
   "source": []
  },
  {
   "cell_type": "code",
   "execution_count": null,
   "id": "7aa0a3a2",
   "metadata": {},
   "outputs": [],
   "source": []
  },
  {
   "cell_type": "code",
   "execution_count": null,
   "id": "6355e274",
   "metadata": {},
   "outputs": [],
   "source": []
  },
  {
   "cell_type": "code",
   "execution_count": null,
   "id": "53d2f01f",
   "metadata": {},
   "outputs": [],
   "source": []
  },
  {
   "cell_type": "code",
   "execution_count": null,
   "id": "a828ba77",
   "metadata": {},
   "outputs": [],
   "source": []
  },
  {
   "cell_type": "code",
   "execution_count": null,
   "id": "b9df9fcd",
   "metadata": {},
   "outputs": [],
   "source": []
  },
  {
   "cell_type": "code",
   "execution_count": null,
   "id": "53ae5825",
   "metadata": {},
   "outputs": [],
   "source": []
  },
  {
   "cell_type": "code",
   "execution_count": null,
   "id": "10faf021",
   "metadata": {},
   "outputs": [],
   "source": []
  },
  {
   "cell_type": "code",
   "execution_count": null,
   "id": "0060032b",
   "metadata": {},
   "outputs": [],
   "source": []
  },
  {
   "cell_type": "code",
   "execution_count": null,
   "id": "fe19eb84",
   "metadata": {},
   "outputs": [],
   "source": []
  }
 ],
 "metadata": {
  "kernelspec": {
   "display_name": "Python 3 (ipykernel)",
   "language": "python",
   "name": "python3"
  },
  "language_info": {
   "codemirror_mode": {
    "name": "ipython",
    "version": 3
   },
   "file_extension": ".py",
   "mimetype": "text/x-python",
   "name": "python",
   "nbconvert_exporter": "python",
   "pygments_lexer": "ipython3",
   "version": "3.11.5"
  }
 },
 "nbformat": 4,
 "nbformat_minor": 5
}
