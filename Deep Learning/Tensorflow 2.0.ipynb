{
 "cells": [
  {
   "cell_type": "markdown",
   "id": "134ae417",
   "metadata": {},
   "source": [
    "# Verify that you are running Tensorflow 2.0"
   ]
  },
  {
   "cell_type": "code",
   "execution_count": 2,
   "id": "e4e26bb4",
   "metadata": {},
   "outputs": [
    {
     "name": "stdout",
     "output_type": "stream",
     "text": [
      "2.16.1\n"
     ]
    }
   ],
   "source": [
    "import tensorflow as tf\n",
    "print(tf.__version__)"
   ]
  },
  {
   "cell_type": "code",
   "execution_count": 3,
   "id": "0d655be7",
   "metadata": {},
   "outputs": [
    {
     "data": {
      "text/plain": [
       "tensorflow.python.framework.ops.EagerTensor"
      ]
     },
     "execution_count": 3,
     "metadata": {},
     "output_type": "execute_result"
    }
   ],
   "source": [
    "hello  = tf.constant(\"Hello\")\n",
    "type(hello)"
   ]
  },
  {
   "cell_type": "code",
   "execution_count": 4,
   "id": "8d7ec098",
   "metadata": {},
   "outputs": [
    {
     "name": "stdout",
     "output_type": "stream",
     "text": [
      "Hello\r\n"
     ]
    }
   ],
   "source": [
    "tf.print(hello)"
   ]
  },
  {
   "cell_type": "code",
   "execution_count": 5,
   "id": "f6a88098",
   "metadata": {},
   "outputs": [],
   "source": [
    "world = tf.constant(\"world\")"
   ]
  },
  {
   "cell_type": "code",
   "execution_count": 6,
   "id": "29c34cd7",
   "metadata": {},
   "outputs": [
    {
     "name": "stdout",
     "output_type": "stream",
     "text": [
      "world\r\n"
     ]
    }
   ],
   "source": [
    "tf.print(world)"
   ]
  },
  {
   "cell_type": "code",
   "execution_count": 7,
   "id": "c27a5c53",
   "metadata": {},
   "outputs": [
    {
     "name": "stdout",
     "output_type": "stream",
     "text": [
      "Helloworld\r\n"
     ]
    }
   ],
   "source": [
    "result= hello + world\n",
    "tf.print(result)"
   ]
  },
  {
   "cell_type": "code",
   "execution_count": 8,
   "id": "b84579b5",
   "metadata": {},
   "outputs": [
    {
     "name": "stdout",
     "output_type": "stream",
     "text": [
      "60\n",
      "800\n"
     ]
    }
   ],
   "source": [
    "a = tf.constant(20)\n",
    "b = tf.constant(40)\n",
    "a+b\n",
    "a*b\n",
    "tf.print(a+b)\n",
    "tf.print(a*b)"
   ]
  },
  {
   "cell_type": "code",
   "execution_count": 9,
   "id": "04efea14",
   "metadata": {},
   "outputs": [
    {
     "name": "stdout",
     "output_type": "stream",
     "text": [
      "[[2 2 2 2]\n",
      " [2 2 2 2]\n",
      " [2 2 2 2]\n",
      " [2 2 2 2]\n",
      " [2 2 2 2]\n",
      " [2 2 2 2]]\r\n"
     ]
    }
   ],
   "source": [
    "myarr = tf.fill((6,4),2)\n",
    "tf.print(myarr)"
   ]
  },
  {
   "cell_type": "code",
   "execution_count": 10,
   "id": "76ee229c",
   "metadata": {},
   "outputs": [
    {
     "data": {
      "text/plain": [
       "TensorShape([6, 4])"
      ]
     },
     "execution_count": 10,
     "metadata": {},
     "output_type": "execute_result"
    }
   ],
   "source": [
    "myarr.get_shape()"
   ]
  },
  {
   "cell_type": "code",
   "execution_count": 11,
   "id": "cdb6f281",
   "metadata": {},
   "outputs": [
    {
     "name": "stdout",
     "output_type": "stream",
     "text": [
      "[[-0.385019422 2.73439288 0.729313254 3.69120502 2.44918394]\n",
      " [1.14485097 2.79366112 1.27073181 2.39572859 0.945349872]\n",
      " [0.772743702 2.36435294 -0.118964553 1.01469624 1.33249021]\n",
      " [-1.26500463 1.96957111 -0.0383831263 0.202537239 1.34544802]]\r\n"
     ]
    }
   ],
   "source": [
    "mytensor = tf.random.normal((4,5), 1 , 2)\n",
    "tf.print(mytensor)"
   ]
  },
  {
   "cell_type": "markdown",
   "id": "9fbd2d24",
   "metadata": {},
   "source": [
    "# Eager Execution"
   ]
  },
  {
   "cell_type": "markdown",
   "id": "26ef074f",
   "metadata": {},
   "source": [
    "# Verify if running Eager Execution"
   ]
  },
  {
   "cell_type": "code",
   "execution_count": 12,
   "id": "2d9b990a",
   "metadata": {},
   "outputs": [
    {
     "name": "stdout",
     "output_type": "stream",
     "text": [
      "Its worling\n"
     ]
    }
   ],
   "source": [
    "if (tf.executing_eagerly()):\n",
    "    print(\"Its worling\")\n",
    "else:\n",
    "    print(\"Its not working \")"
   ]
  },
  {
   "cell_type": "markdown",
   "id": "d9532925",
   "metadata": {},
   "source": [
    "# Simple Operations"
   ]
  },
  {
   "cell_type": "code",
   "execution_count": 13,
   "id": "4d2e1f49",
   "metadata": {},
   "outputs": [],
   "source": [
    "# Making a constant tensor A, that does not change\n",
    "\n",
    "A =tf.constant([[4,3],\n",
    "                [6,3],\n",
    "                [9,8]\n",
    "               ])"
   ]
  },
  {
   "cell_type": "code",
   "execution_count": 14,
   "id": "838e250f",
   "metadata": {},
   "outputs": [
    {
     "name": "stdout",
     "output_type": "stream",
     "text": [
      "[[4 3]\n",
      " [6 3]\n",
      " [9 8]]\r\n"
     ]
    },
    {
     "data": {
      "text/plain": [
       "array([[4, 3],\n",
       "       [6, 3],\n",
       "       [9, 8]])"
      ]
     },
     "execution_count": 14,
     "metadata": {},
     "output_type": "execute_result"
    }
   ],
   "source": [
    "tf.print(A)\n",
    "A.numpy()"
   ]
  },
  {
   "cell_type": "code",
   "execution_count": 15,
   "id": "617e6d6c",
   "metadata": {},
   "outputs": [],
   "source": [
    "# Making a Variable tensor VA , which can change notice it s variable \n",
    "\n",
    "VA = tf.Variable([[1,0],\n",
    "                   [4,7],\n",
    "                  [9,9]\n",
    "                 ])\n",
    "\n",
    "#  Making another tensor B\n",
    "\n",
    "B = tf.constant([[4,4],\n",
    "                 [7,8],\n",
    "                 [9,9]\n",
    "                ])"
   ]
  },
  {
   "cell_type": "code",
   "execution_count": 16,
   "id": "fd9fb2e4",
   "metadata": {},
   "outputs": [
    {
     "name": "stdout",
     "output_type": "stream",
     "text": [
      "[[4 4]\n",
      " [7 8]\n",
      " [9 9]]\r\n"
     ]
    }
   ],
   "source": [
    "tf.print(B)"
   ]
  },
  {
   "cell_type": "markdown",
   "id": "de552c0a",
   "metadata": {},
   "source": [
    "# Concatenation By tf.concat"
   ]
  },
  {
   "cell_type": "code",
   "execution_count": 17,
   "id": "d8c1f79d",
   "metadata": {},
   "outputs": [
    {
     "name": "stdout",
     "output_type": "stream",
     "text": [
      "Adding B/s columns to A:\\ [[4 3 1 0]\n",
      " [6 3 4 7]\n",
      " [9 8 9 9]]\n"
     ]
    }
   ],
   "source": [
    "# Concate ate columns  \n",
    "AB_concatenated = tf.concat(values=[A, VA], axis=1)\n",
    "print(f'Adding B/s columns to A:\\ {AB_concatenated}')"
   ]
  },
  {
   "cell_type": "code",
   "execution_count": 18,
   "id": "bfea32f5",
   "metadata": {},
   "outputs": [
    {
     "name": "stdout",
     "output_type": "stream",
     "text": [
      " Adding B rows to A [[4 3]\n",
      " [6 3]\n",
      " [9 8]\n",
      " [4 4]\n",
      " [7 8]\n",
      " [9 9]]\n"
     ]
    }
   ],
   "source": [
    "# Concatenate Rows \n",
    "AB_concatencate = tf.concat(values=[A,B], axis=0)\n",
    "print(f' Adding B rows to A {AB_concatencate}')"
   ]
  },
  {
   "cell_type": "markdown",
   "id": "14190648",
   "metadata": {},
   "source": [
    "# Making tensors by tf.zeros and tf.ones"
   ]
  },
  {
   "cell_type": "code",
   "execution_count": 19,
   "id": "5f252f69",
   "metadata": {},
   "outputs": [
    {
     "name": "stdout",
     "output_type": "stream",
     "text": [
      "tf.Tensor(\n",
      "[[0 0 0 0]\n",
      " [0 0 0 0]], shape=(2, 4), dtype=int32)\n"
     ]
    }
   ],
   "source": [
    "tensor = tf.zeros(shape=[2,4], dtype=tf.int32)\n",
    "print(tensor)"
   ]
  },
  {
   "cell_type": "code",
   "execution_count": 20,
   "id": "19edea31",
   "metadata": {},
   "outputs": [
    {
     "name": "stdout",
     "output_type": "stream",
     "text": [
      "array([[1., 1., 1., 1., 1., 1.],\n",
      "       [1., 1., 1., 1., 1., 1.],\n",
      "       [1., 1., 1., 1., 1., 1.],\n",
      "       [1., 1., 1., 1., 1., 1.]], dtype=float32)\r\n"
     ]
    }
   ],
   "source": [
    "tensor1 = tf.ones(shape=[4,6], dtype=tf.float32)\n",
    "tf.print(tensor1.numpy())"
   ]
  },
  {
   "cell_type": "markdown",
   "id": "3b305531",
   "metadata": {},
   "source": [
    "# Reshape data by tf.reshape"
   ]
  },
  {
   "cell_type": "code",
   "execution_count": 21,
   "id": "61aa89e3",
   "metadata": {},
   "outputs": [],
   "source": [
    "# making a tensor for reshaping\n",
    "tensor = tf.constant([[5,3,5],\n",
    "                     [6,3,6],\n",
    "                      [6,3,7],\n",
    "                      [2,6,8]\n",
    "                     ])"
   ]
  },
  {
   "cell_type": "code",
   "execution_count": 22,
   "id": "65b90d6b",
   "metadata": {},
   "outputs": [],
   "source": [
    "# >reshaping the tensor into a shape of : shape =[rows , cloumns]\n",
    "reshaped_tensor = tf.reshape(tensor, shape=[1,12])"
   ]
  },
  {
   "cell_type": "code",
   "execution_count": 23,
   "id": "74977d27",
   "metadata": {},
   "outputs": [
    {
     "name": "stdout",
     "output_type": "stream",
     "text": [
      " Tensor Before reshape :\n",
      " [[5 3 5]\n",
      " [6 3 6]\n",
      " [6 3 7]\n",
      " [2 6 8]]\n",
      " Tensor After reshape :\n",
      " [[5 3 5 6 3 6 6 3 7 2 6 8]]\n"
     ]
    }
   ],
   "source": [
    "print(f\" Tensor Before reshape :\\n {tensor.numpy()}\")\n",
    "\n",
    "print(f\" Tensor After reshape :\\n {reshaped_tensor.numpy()}\")"
   ]
  },
  {
   "cell_type": "markdown",
   "id": "f4ca3302",
   "metadata": {},
   "source": [
    "# Casting tensors to other data type by tf.cast"
   ]
  },
  {
   "cell_type": "code",
   "execution_count": 24,
   "id": "e832697b",
   "metadata": {},
   "outputs": [
    {
     "name": "stdout",
     "output_type": "stream",
     "text": [
      " after casting [[5. 3. 5.]\n",
      " [6. 3. 6.]\n",
      " [6. 3. 7.]\n",
      " [2. 6. 8.]]\n",
      " before casting [[5 3 5]\n",
      " [6 3 6]\n",
      " [6 3 7]\n",
      " [2 6 8]]\n"
     ]
    }
   ],
   "source": [
    "# making a tensor for Casting\n",
    "tensor = tf.constant([[5,3,5],\n",
    "                     [6,3,6],\n",
    "                      [6,3,7],\n",
    "                      [2,6,8]\n",
    "                     ])\n",
    "tensor_as_float = tf.cast(tensor, tf.float32)\n",
    "print(f' after casting {tensor_as_float.numpy()}')\n",
    "\n",
    "print(f' before casting {tensor.numpy()}')"
   ]
  },
  {
   "cell_type": "markdown",
   "id": "cbb822e4",
   "metadata": {},
   "source": [
    "# The linear algebra operations"
   ]
  },
  {
   "cell_type": "code",
   "execution_count": 25,
   "id": "b691004e",
   "metadata": {},
   "outputs": [
    {
     "name": "stdout",
     "output_type": "stream",
     "text": [
      " The Transposed matrix A:\n",
      " [[9 1]\n",
      " [6 5]\n",
      " [4 3]]\n"
     ]
    }
   ],
   "source": [
    "# Transpose tensor\n",
    "A = tf.constant([[9,6,4],\n",
    "                [1,5,3]\n",
    "                ])\n",
    "A = tf.transpose(A)\n",
    "print(f\" The Transposed matrix A:\\n {A}\")"
   ]
  },
  {
   "cell_type": "markdown",
   "id": "70f3a71c",
   "metadata": {},
   "source": [
    "# Matrix Multiplication"
   ]
  },
  {
   "cell_type": "code",
   "execution_count": 26,
   "id": "d356f1b7",
   "metadata": {},
   "outputs": [
    {
     "name": "stdout",
     "output_type": "stream",
     "text": [
      "matrix multiplication of A and V result in a new tensor:\n",
      " [[29]\n",
      " [48]]\n"
     ]
    }
   ],
   "source": [
    "# some matrix \n",
    "A = tf.constant([[3,2],\n",
    "                [4,5]])\n",
    "\n",
    "# Some Vectore\n",
    "v = tf.constant([[7],\n",
    "               [4]])\n",
    "\n",
    "# Matrix Multiplication\n",
    "AV = tf.matmul(A, v)\n",
    "\n",
    "print(f'matrix multiplication of A and V result in a new tensor:\\n {AV}')"
   ]
  },
  {
   "cell_type": "markdown",
   "id": "706f9989",
   "metadata": {},
   "source": [
    "# Element-wise muliplication"
   ]
  },
  {
   "cell_type": "code",
   "execution_count": 27,
   "id": "2a3eeff2",
   "metadata": {},
   "outputs": [
    {
     "name": "stdout",
     "output_type": "stream",
     "text": [
      "tf.Tensor(\n",
      "[[21 14]\n",
      " [16 20]], shape=(2, 2), dtype=int32)\n"
     ]
    }
   ],
   "source": [
    "AV = tf.multiply(A, v)\n",
    "print(AV)"
   ]
  },
  {
   "cell_type": "markdown",
   "id": "214247fa",
   "metadata": {},
   "source": [
    "# Identity Matrix"
   ]
  },
  {
   "cell_type": "code",
   "execution_count": 28,
   "id": "205edff5",
   "metadata": {},
   "outputs": [],
   "source": [
    "# Some Matrix a\n",
    "A = tf.constant([[3,5],[3,2]])"
   ]
  },
  {
   "cell_type": "code",
   "execution_count": 29,
   "id": "c8e9342f",
   "metadata": {},
   "outputs": [
    {
     "name": "stdout",
     "output_type": "stream",
     "text": [
      "get rows and columns in tensor A:\n",
      " 2 rows \n",
      " 2 columns\n"
     ]
    }
   ],
   "source": [
    "rows, columns = A.shape\n",
    "print(f'get rows and columns in tensor A:\\n {rows} rows \\n {columns} columns')\n"
   ]
  },
  {
   "cell_type": "code",
   "execution_count": 30,
   "id": "3ddbf5b8",
   "metadata": {},
   "outputs": [
    {
     "name": "stdout",
     "output_type": "stream",
     "text": [
      "\n",
      "  the identity matrix of a:\n",
      " [[1 0]\n",
      " [0 1]]\n"
     ]
    }
   ],
   "source": [
    "#  Making identity matrix \n",
    "A_identity = tf.eye(num_rows = rows, \n",
    "                   num_columns= columns,\n",
    "                   dtype=tf.int32)\n",
    "\n",
    "print(f'\\n  the identity matrix of a:\\n {A_identity.numpy()}')"
   ]
  },
  {
   "cell_type": "code",
   "execution_count": 31,
   "id": "f9459dd1",
   "metadata": {},
   "outputs": [
    {
     "name": "stdout",
     "output_type": "stream",
     "text": [
      "Matric multiplication of A and v result in a new tensor: \n",
      " [[3 5]\n",
      " [3 2]]\n"
     ]
    }
   ],
   "source": [
    "# Matrix multiplication of A.A_identity\n",
    "AAt = tf.matmul(A, A_identity)\n",
    "\n",
    "print(f'Matric multiplication of A and v result in a new tensor: \\n {AAt}')"
   ]
  },
  {
   "cell_type": "markdown",
   "id": "1b248d41",
   "metadata": {},
   "source": [
    "# Creating a Varible in Tensorflow 2.0"
   ]
  },
  {
   "cell_type": "code",
   "execution_count": 36,
   "id": "bd18b39f",
   "metadata": {},
   "outputs": [
    {
     "name": "stdout",
     "output_type": "stream",
     "text": [
      "[[[0 0 0 0]\n",
      "  [0 0 0 0]\n",
      "  [0 0 0 0]]\n",
      "\n",
      " [[0 0 0 0]\n",
      "  [0 0 0 0]\n",
      "  [0 0 0 0]]]\r\n"
     ]
    }
   ],
   "source": [
    "# Create a variable \n",
    "my_variable = tf.Variable(tf.zeros([2, 3, 4]))\n",
    "tf.print(my_variable)"
   ]
  },
  {
   "cell_type": "code",
   "execution_count": 41,
   "id": "790cd77a",
   "metadata": {},
   "outputs": [
    {
     "name": "stdout",
     "output_type": "stream",
     "text": [
      "0\n",
      "1\n"
     ]
    }
   ],
   "source": [
    "v = tf.Variable(0,0)\n",
    "\n",
    "w = v+1\n",
    "tf.print(v)\n",
    "tf.print(w)"
   ]
  },
  {
   "cell_type": "code",
   "execution_count": 42,
   "id": "55fadb2a",
   "metadata": {},
   "outputs": [
    {
     "data": {
      "text/plain": [
       "<tf.Variable 'UnreadVariable' shape=() dtype=float32, numpy=2.0>"
      ]
     },
     "execution_count": 42,
     "metadata": {},
     "output_type": "execute_result"
    }
   ],
   "source": [
    "v = tf.Variable(0.0)\n",
    "\n",
    "v.assign(2)\n"
   ]
  },
  {
   "cell_type": "code",
   "execution_count": 43,
   "id": "8a6eff63",
   "metadata": {},
   "outputs": [
    {
     "name": "stdout",
     "output_type": "stream",
     "text": [
      "2\r\n"
     ]
    }
   ],
   "source": [
    "tf.print(v)"
   ]
  },
  {
   "cell_type": "code",
   "execution_count": 44,
   "id": "426b2066",
   "metadata": {},
   "outputs": [
    {
     "data": {
      "text/plain": [
       "<tf.Variable 'UnreadVariable' shape=() dtype=float32, numpy=1.0>"
      ]
     },
     "execution_count": 44,
     "metadata": {},
     "output_type": "execute_result"
    }
   ],
   "source": [
    "v = tf.Variable(0.0)\n",
    "v.assign_add(1)"
   ]
  },
  {
   "cell_type": "code",
   "execution_count": 45,
   "id": "edef40aa",
   "metadata": {},
   "outputs": [
    {
     "name": "stdout",
     "output_type": "stream",
     "text": [
      "1\r\n"
     ]
    }
   ],
   "source": [
    "tf.print(v)"
   ]
  },
  {
   "cell_type": "markdown",
   "id": "dbf79467",
   "metadata": {},
   "source": [
    "# Operations in Tensorflow 2.0"
   ]
  },
  {
   "cell_type": "code",
   "execution_count": null,
   "id": "143226c1",
   "metadata": {},
   "outputs": [],
   "source": [
    "# Function , not session \n",
    "# Tensorflow 1.X\n",
    "# output = session.run(f(placeholder. feed_dict= {placeholder.input}))\n",
    "\n",
    "# Tensorflow 2.0\n",
    "# outputs = f(input)"
   ]
  },
  {
   "cell_type": "code",
   "execution_count": 46,
   "id": "ebc50bde",
   "metadata": {},
   "outputs": [
    {
     "name": "stdout",
     "output_type": "stream",
     "text": [
      "30\n"
     ]
    }
   ],
   "source": [
    "def add_op(a,b):\n",
    "    return a + b\n",
    "print(add_op(10,20))"
   ]
  },
  {
   "cell_type": "code",
   "execution_count": 48,
   "id": "71282006",
   "metadata": {},
   "outputs": [
    {
     "name": "stdout",
     "output_type": "stream",
     "text": [
      "[55 25 55 95]\n"
     ]
    }
   ],
   "source": [
    "# Linear Model \n",
    "\n",
    "w = tf.Variable([10], tf.int32)\n",
    "b = tf.Variable([5], tf.int32)\n",
    "\n",
    "def linear_model(x):\n",
    "    return w * x + b\n",
    "print(linear_model(x = [5,2,5,9]).numpy())"
   ]
  },
  {
   "cell_type": "markdown",
   "id": "1afb8ae7",
   "metadata": {},
   "source": [
    "# Multi-Variable Equations "
   ]
  },
  {
   "cell_type": "code",
   "execution_count": 85,
   "id": "8d7482f7",
   "metadata": {},
   "outputs": [
    {
     "name": "stdout",
     "output_type": "stream",
     "text": [
      " \n",
      " x1: values is  [ 7  9  5  6  8 10  8  9  8  6]\n",
      " x2: values is [17 17 13 10 12 16 15 15 12 14] \n",
      " x3: values is [14 15 12 15 13 15 18 18 12 16]\n"
     ]
    }
   ],
   "source": [
    "import numpy as np\n",
    "import matplotlib.pyplot as plt\n",
    "\n",
    "x1 = np.random.randint(3, 12, 10)\n",
    "x2 = np.random.randint(9, 18, 10)\n",
    "x3 = np.random.randint(12, 20, 10)\n",
    "print( f' \\n x1: values is  {x1}\\n x2: values is {x2} \\n x3: values is {x3}' )\n",
    "\n",
    "\n",
    "y= x1 * 7 + 5 * x2 + 4 *x3"
   ]
  },
  {
   "cell_type": "code",
   "execution_count": 70,
   "id": "40012ba5",
   "metadata": {},
   "outputs": [
    {
     "data": {
      "text/plain": [
       "10"
      ]
     },
     "execution_count": 70,
     "metadata": {},
     "output_type": "execute_result"
    }
   ],
   "source": [
    "shape = x1.shape[0]\n",
    "shape"
   ]
  },
  {
   "cell_type": "code",
   "execution_count": 71,
   "id": "85d548b9",
   "metadata": {},
   "outputs": [
    {
     "data": {
      "text/plain": [
       "array([202, 150, 155, 123, 179, 166, 185, 129, 170, 161])"
      ]
     },
     "execution_count": 71,
     "metadata": {},
     "output_type": "execute_result"
    }
   ],
   "source": [
    "y"
   ]
  },
  {
   "cell_type": "code",
   "execution_count": 72,
   "id": "b72f681c",
   "metadata": {},
   "outputs": [
    {
     "name": "stdout",
     "output_type": "stream",
     "text": [
      "[[202]\n",
      " [150]\n",
      " [155]\n",
      " [123]\n",
      " [179]\n",
      " [166]\n",
      " [185]\n",
      " [129]\n",
      " [170]\n",
      " [161]]\n"
     ]
    }
   ],
   "source": [
    "y = y.reshape(shape, 1)\n",
    "print(y)"
   ]
  },
  {
   "cell_type": "code",
   "execution_count": 73,
   "id": "d0e3b45c",
   "metadata": {},
   "outputs": [
    {
     "data": {
      "text/plain": [
       "array([[ 9,  7,  6,  3, 10,  7,  9,  3,  6,  4],\n",
       "       [15,  9,  9, 10,  9, 13, 10, 12, 12, 17],\n",
       "       [16, 14, 17, 13, 16, 13, 18, 12, 17, 12]])"
      ]
     },
     "execution_count": 73,
     "metadata": {},
     "output_type": "execute_result"
    }
   ],
   "source": [
    "X = np.array([x1, x2, x3])\n",
    "X"
   ]
  },
  {
   "cell_type": "code",
   "execution_count": 74,
   "id": "83977517",
   "metadata": {},
   "outputs": [
    {
     "data": {
      "text/plain": [
       "array([[ 9, 15, 16],\n",
       "       [ 7,  9, 14],\n",
       "       [ 6,  9, 17],\n",
       "       [ 3, 10, 13],\n",
       "       [10,  9, 16],\n",
       "       [ 7, 13, 13],\n",
       "       [ 9, 10, 18],\n",
       "       [ 3, 12, 12],\n",
       "       [ 6, 12, 17],\n",
       "       [ 4, 17, 12]])"
      ]
     },
     "execution_count": 74,
     "metadata": {},
     "output_type": "execute_result"
    }
   ],
   "source": [
    "X = X.T\n",
    "X"
   ]
  },
  {
   "cell_type": "code",
   "execution_count": 75,
   "id": "db2f16c3",
   "metadata": {},
   "outputs": [
    {
     "data": {
      "text/plain": [
       "array([[-0.70475366],\n",
       "       [-1.54058834],\n",
       "       [-0.80959281]])"
      ]
     },
     "execution_count": 75,
     "metadata": {},
     "output_type": "execute_result"
    }
   ],
   "source": [
    "lr = 0.001 #learning rate\n",
    "w = np.array([np.random.randn(1),\n",
    "             np.random.randn(1),\n",
    "              np.random.randn(1)\n",
    "             ])\n",
    "w"
   ]
  },
  {
   "cell_type": "code",
   "execution_count": 87,
   "id": "7204fe56",
   "metadata": {},
   "outputs": [
    {
     "ename": "ValueError",
     "evalue": "setting an array element with a sequence.",
     "output_type": "error",
     "traceback": [
      "\u001b[1;31m---------------------------------------------------------------------------\u001b[0m",
      "\u001b[1;31mTypeError\u001b[0m                                 Traceback (most recent call last)",
      "\u001b[1;31mTypeError\u001b[0m: only size-1 arrays can be converted to Python scalars",
      "\nThe above exception was the direct cause of the following exception:\n",
      "\u001b[1;31mValueError\u001b[0m                                Traceback (most recent call last)",
      "Cell \u001b[1;32mIn[87], line 12\u001b[0m\n\u001b[0;32m      9\u001b[0m dEw3 \u001b[38;5;241m=\u001b[39m \u001b[38;5;241m2\u001b[39m \u001b[38;5;241m*\u001b[39m np\u001b[38;5;241m.\u001b[39mmatmul((y \u001b[38;5;241m-\u001b[39m y_pred)\u001b[38;5;241m.\u001b[39mT , (\u001b[38;5;241m-\u001b[39mX[:, \u001b[38;5;241m2\u001b[39m]\u001b[38;5;241m.\u001b[39mreshape(shape, \u001b[38;5;241m1\u001b[39m)))\n\u001b[0;32m     11\u001b[0m \u001b[38;5;66;03m# Weight update\u001b[39;00m\n\u001b[1;32m---> 12\u001b[0m w[\u001b[38;5;241m0\u001b[39m][\u001b[38;5;241m0\u001b[39m] \u001b[38;5;241m=\u001b[39m w[\u001b[38;5;241m0\u001b[39m][\u001b[38;5;241m0\u001b[39m] \u001b[38;5;241m-\u001b[39m lr \u001b[38;5;241m*\u001b[39m dEw1\n\u001b[0;32m     13\u001b[0m w[\u001b[38;5;241m1\u001b[39m][\u001b[38;5;241m0\u001b[39m] \u001b[38;5;241m=\u001b[39m w[\u001b[38;5;241m1\u001b[39m][\u001b[38;5;241m0\u001b[39m] \u001b[38;5;241m-\u001b[39m lr \u001b[38;5;241m*\u001b[39m dEw2\n\u001b[0;32m     14\u001b[0m w[\u001b[38;5;241m2\u001b[39m][\u001b[38;5;241m0\u001b[39m] \u001b[38;5;241m=\u001b[39m w[\u001b[38;5;241m2\u001b[39m][\u001b[38;5;241m0\u001b[39m] \u001b[38;5;241m-\u001b[39m lr \u001b[38;5;241m*\u001b[39m dEw3\n",
      "\u001b[1;31mValueError\u001b[0m: setting an array element with a sequence."
     ]
    }
   ],
   "source": [
    "error_list = []\n",
    "for i in range(5):\n",
    "    y_pred = np.matmul(X, w)\n",
    "    error = (y - y_pred)**2\n",
    "\n",
    "    # Gradient calculation\n",
    "    dEw1 = 2 * np.matmul((y - y_pred).T , (-X[:, 0].reshape(shape, 1)))\n",
    "    dEw2 = 2 * np.matmul((y - y_pred).T , (-X[:, 1].reshape(shape, 1)))\n",
    "    dEw3 = 2 * np.matmul((y - y_pred).T , (-X[:, 2].reshape(shape, 1)))\n",
    "\n",
    "    # Weight update\n",
    "    w[0][0] = w[0][0] - lr * dEw1\n",
    "    w[1][0] = w[1][0] - lr * dEw2\n",
    "    w[2][0] = w[2][0] - lr * dEw3\n",
    "\n",
    "    # Track error\n",
    "    error_list.append(error.mean())\n",
    "    print(f\"Iteration {i+1}: w1 = {w[0][0]:.4f}, w2 = {w[1][0]:.4f}, w3 = {w[2][0]:.4f}, Error = {error.mean():.4f}\")\n",
    "\n",
    "# 📈 Plot after training\n",
    "import matplotlib.pyplot as plt\n",
    "\n",
    "plt.plot(error_list, marker='o')\n",
    "plt.title(\"Training Error over Time\")\n",
    "plt.xlabel(\"Iteration\")\n",
    "plt.ylabel(\"Mean Squared Error\")\n",
    "plt.grid(True)\n",
    "plt.show()\n"
   ]
  },
  {
   "cell_type": "code",
   "execution_count": 86,
   "id": "81e9dd6a",
   "metadata": {},
   "outputs": [
    {
     "data": {
      "image/png": "[encoded data removed]",
      "text/plain": [
       "<Figure size 640x480 with 1 Axes>"
      ]
     },
     "metadata": {},
     "output_type": "display_data"
    }
   ],
   "source": [
    "plt.title(\"Training Error over Time \")\n",
    "plt.plot(error_list, marker ='o')\n",
    "plt.xlabel(\"Iteration\")\n",
    "plt.ylabel(\"Mean square error\")\n",
    "plt.grid(True)\n",
    "plt.show()"
   ]
  },
  {
   "cell_type": "code",
   "execution_count": 89,
   "id": "c0525587",
   "metadata": {},
   "outputs": [
    {
     "name": "stdout",
     "output_type": "stream",
     "text": [
      "x1: [ 9  6 10  7  9  5  9 10  7  6]\n",
      "x2: [16 16 11 14 13 10 16 14 10 13]\n",
      "x3: [12 15 13 17 16 15 12 12 14 14]\n",
      "Epoch 1: Error = 31637.5928, Weights = [-0.29586137  0.1403014   0.1573761 ]\n"
     ]
    },
    {
     "data": {
      "image/png": "[encoded data removed]",
      "text/plain": [
       "<Figure size 640x480 with 1 Axes>"
      ]
     },
     "metadata": {},
     "output_type": "display_data"
    }
   ],
   "source": [
    "import numpy as np\n",
    "import matplotlib.pyplot as plt\n",
    "\n",
    "# 1. 🎲 Generate Random Input Data\n",
    "np.random.seed(42)  # for reproducibility\n",
    "x1 = np.random.randint(3, 12, 10)\n",
    "x2 = np.random.randint(9, 18, 10)\n",
    "x3 = np.random.randint(12, 20, 10)\n",
    "\n",
    "print(f\"x1: {x1}\\nx2: {x2}\\nx3: {x3}\")\n",
    "\n",
    "# 2. 🎯 Create Target Output (y = 7*x1 + 5*x2 + 4*x3)\n",
    "y = x1 * 7 + x2 * 5 + x3 * 4\n",
    "y = y.reshape(-1, 1)  # shape (10, 1)\n",
    "\n",
    "# 3. 🧱 Prepare Input Matrix X\n",
    "X = np.array([x1, x2, x3]).T  # shape (10, 3)\n",
    "\n",
    "# Optional: Normalize features (recommended for stability)\n",
    "X = (X - X.mean(axis=0)) / X.std(axis=0)\n",
    "\n",
    "# 4. 🎯 Initialize Weights Randomly\n",
    "w = np.random.randn(3, 1)  # shape (3, 1)\n",
    "\n",
    "# 5. 🔁 Training Loop\n",
    "lr = 0.01  # learning rate\n",
    "epochs = 100\n",
    "error_list = []\n",
    "\n",
    "for i in range(10):\n",
    "    # Forward pass\n",
    "    y_pred = np.matmul(X, w)\n",
    "\n",
    "    # Compute Mean Squared Error\n",
    "    error = np.mean((y - y_pred) ** 2)\n",
    "    error_list.append(error)\n",
    "\n",
    "    # Compute Gradient\n",
    "    gradient = -2 * np.dot(X.T, (y - y_pred)) / X.shape[0]\n",
    "\n",
    "    # Update Weights\n",
    "    w = w - lr * gradient\n",
    "\n",
    "    # Print progress\n",
    "    if i % 10 == 0 or i == epochs - 1:\n",
    "        print(f\"Epoch {i+1}: Error = {error:.4f}, Weights = {w.ravel()}\")\n",
    "\n",
    "# 6. 📈 Plot Error Over Time\n",
    "plt.plot(error_list, marker='o')\n",
    "plt.title(\"Training Error Over Time\")\n",
    "plt.xlabel(\"Epoch\")\n",
    "plt.ylabel(\"Mean Squared Error\")\n",
    "plt.grid(True)\n",
    "plt.show()\n"
   ]
  },
  {
   "cell_type": "code",
   "execution_count": null,
   "id": "9870a58f",
   "metadata": {},
   "outputs": [],
   "source": []
  },
  {
   "cell_type": "code",
   "execution_count": null,
   "id": "b141e795",
   "metadata": {},
   "outputs": [],
   "source": []
  },
  {
   "cell_type": "code",
   "execution_count": null,
   "id": "0dfeb230",
   "metadata": {},
   "outputs": [],
   "source": []
  },
  {
   "cell_type": "code",
   "execution_count": null,
   "id": "5a5d5108",
   "metadata": {},
   "outputs": [],
   "source": []
  },
  {
   "cell_type": "code",
   "execution_count": null,
   "id": "8449d0da",
   "metadata": {},
   "outputs": [],
   "source": []
  },
  {
   "cell_type": "code",
   "execution_count": null,
   "id": "917d6d4c",
   "metadata": {},
   "outputs": [],
   "source": []
  },
  {
   "cell_type": "code",
   "execution_count": null,
   "id": "bc6aaca4",
   "metadata": {},
   "outputs": [],
   "source": []
  },
  {
   "cell_type": "code",
   "execution_count": null,
   "id": "706e7152",
   "metadata": {},
   "outputs": [],
   "source": []
  },
  {
   "cell_type": "code",
   "execution_count": null,
   "id": "ab7975c2",
   "metadata": {},
   "outputs": [],
   "source": []
  }
 ],
 "metadata": {
  "kernelspec": {
   "display_name": "Python 3 (ipykernel)",
   "language": "python",
   "name": "python3"
  },
  "language_info": {
   "codemirror_mode": {
    "name": "ipython",
    "version": 3
   },
   "file_extension": ".py",
   "mimetype": "text/x-python",
   "name": "python",
   "nbconvert_exporter": "python",
   "pygments_lexer": "ipython3",
   "version": "3.11.5"
  }
 },
 "nbformat": 4,
 "nbformat_minor": 5
}
