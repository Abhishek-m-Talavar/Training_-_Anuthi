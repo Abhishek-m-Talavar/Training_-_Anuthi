{
 "cells": [
  {
   "cell_type": "code",
   "execution_count": 5,
   "id": "a3aca24d",
   "metadata": {},
   "outputs": [
    {
     "name": "stdout",
     "output_type": "stream",
     "text": [
      "True\n"
     ]
    }
   ],
   "source": [
    "def perceptron_decision_making(weather, vehicle, money):\n",
    "    \"\"\"\n",
    "    Makes a decision based on the perceptron algorithm.\n",
    "\n",
    "    Args:\n",
    "        weather: A boolean value indicating whether the weather is good.\n",
    "        vehicle: A boolean value indicating whether you have a vehicle available.\n",
    "        money: A boolean value indicating whether you have money.\n",
    "\n",
    "    Returns:\n",
    "        A boolean value indicating whether you should go out.\n",
    "    \"\"\"\n",
    "    \n",
    "    weights = [1, 1, 5]\n",
    "    threshold = 5\n",
    "\n",
    "    # Calculate the weighted sum of the inputs.\n",
    "    weighted_sum = weights[0] * weather + weights[1] * vehicle + weights[2] * money\n",
    "\n",
    "    # Compare the weighted sum to the threshold.\n",
    "    if weighted_sum >= threshold:\n",
    "        return True\n",
    "    else:\n",
    "        return False\n",
    "\n",
    "def main():\n",
    "    # Set the input values.\n",
    "    weather = True\n",
    "    vehicle = True\n",
    "    money = True\n",
    "\n",
    "    #make the decision \n",
    "    decision = perceptron_decision_making(weather, vehicle, money)\n",
    "    \n",
    "    #Print the decision\n",
    "    print(decision)\n",
    "\n",
    "if __name__ == \"__main__\":\n",
    "    main()"
   ]
  }
 ],
 "metadata": {
  "kernelspec": {
   "display_name": "Python 3 (ipykernel)",
   "language": "python",
   "name": "python3"
  },
  "language_info": {
   "codemirror_mode": {
    "name": "ipython",
    "version": 3
   },
   "file_extension": ".py",
   "mimetype": "text/x-python",
   "name": "python",
   "nbconvert_exporter": "python",
   "pygments_lexer": "ipython3",
   "version": "3.11.5"
  }
 },
 "nbformat": 4,
 "nbformat_minor": 5
}
