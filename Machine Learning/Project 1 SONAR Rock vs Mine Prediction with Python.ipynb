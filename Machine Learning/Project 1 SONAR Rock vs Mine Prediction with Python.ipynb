<<<<<<< HEAD
version https://git-lfs.github.com/spec/v1
oid sha256:65da0ed9e3f28f11d6cd2fa4563632af44e1720015e8993201bed2978ea75115
size 6263
=======
{
 "cells": [
  {
   "cell_type": "markdown",
   "id": "6922f399",
   "metadata": {},
   "source": [
    "# SONAR Rock vs Mine Prediction with Python"
   ]
  },
  {
   "cell_type": "code",
   "execution_count": 116,
   "id": "1cf3aac4",
   "metadata": {},
   "outputs": [
    {
     "name": "stdout",
     "output_type": "stream",
     "text": [
      "Training Accuracy: 0.9397590361445783\n",
      "Testing Accuracy: 0.8333333333333334\n",
      "Predicted Class: R\n"
     ]
    }
   ],
   "source": [
    "import pandas as pd\n",
    "import numpy as np\n",
    "from sklearn.model_selection import train_test_split\n",
    "from sklearn.linear_model import LogisticRegression\n",
    "from sklearn.metrics import accuracy_score\n",
    "from sklearn.preprocessing import StandardScaler\n",
    "\n",
    "# 1. Load the dataset\n",
    "sonar_data = pd.read_csv(\"sonar data.csv\", header=None)\n",
    "\n",
    "# 2. Separate features (X) and labels (Y)\n",
    "X = sonar_data.drop(columns=60, axis=1)\n",
    "Y = sonar_data[60]\n",
    "\n",
    "# 3. Split the data into training and testing sets\n",
    "X_train, X_test, Y_train, Y_test = train_test_split(\n",
    "    X, Y, test_size=0.2, stratify=Y, random_state=2\n",
    ")\n",
    "\n",
    "# 4. Standardize the data\n",
    "scaler = StandardScaler()\n",
    "scaler.fit(X_train)\n",
    "\n",
    "X_train = scaler.transform(X_train)\n",
    "X_test = scaler.transform(X_test)\n",
    "\n",
    "# 5. Train the Logistic Regression model\n",
    "model = LogisticRegression()\n",
    "model.fit(X_train, Y_train)\n",
    "\n",
    "# 6. Evaluate the model\n",
    "# Training accuracy\n",
    "X_train_prediction = model.predict(X_train)\n",
    "train_accuracy = accuracy_score(X_train_prediction, Y_train)\n",
    "print(\"Training Accuracy:\", train_accuracy)\n",
    "\n",
    "# Testing accuracy\n",
    "X_test_prediction = model.predict(X_test)\n",
    "test_accuracy = accuracy_score(X_test_prediction, Y_test)\n",
    "print(\"Testing Accuracy:\", test_accuracy)\n",
    "\n",
    "# 7. Predict on a new input data sample\n",
    "input_data = (0.0274,0.0242,0.0621,0.0560,0.1129,0.0973,0.1823,0.1745,0.1440,0.1808,0.2366,0.0906,0.1749,0.4012,0.5187,0.7312,0.9062,0.9260,0.7434,0.4463,0.5103,0.6952,0.7755,0.8364,0.7283,0.6399,0.5759,0.4146,0.3495,0.4437,0.2665,0.2024,0.1942,0.0765,0.3725,0.5843,0.4827,0.2347,0.0999,0.3244,0.3990,0.2975,0.1684,0.1761,0.1683,0.0729,0.1190,0.1297,0.0748,0.0067,0.0255,0.0113,0.0108,0.0085,0.0047,0.0074,0.0104,0.0161,0.0220,0.0173\n",
    ")\n",
    "\n",
    "\n",
    "# Convert input data to numpy array and reshape\n",
    "input_array = np.asarray(input_data).reshape(1, -1)\n",
    "\n",
    "# Standardize the input data\n",
    "input_scaled = scaler.transform(input_array)\n",
    "\n",
    "# Make prediction\n",
    "prediction = model.predict(input_scaled)\n",
    "print(\"Predicted Class:\", prediction[0])  # Output will be 'M' or 'R'\n"
   ]
  },
  {
   "cell_type": "code",
   "execution_count": null,
   "id": "5bfe9ffb",
   "metadata": {},
   "outputs": [],
   "source": [
    "raining Accuracy: 0.9397590361445783\n",
    "Testing Accuracy: 0.8333333333333334\n",
    "Predicted Class: R"
   ]
  },
  {
   "cell_type": "code",
   "execution_count": null,
   "id": "10c2504f",
   "metadata": {},
   "outputs": [],
   "source": []
  },
  {
   "cell_type": "code",
   "execution_count": null,
   "id": "65a8bb0b",
   "metadata": {},
   "outputs": [],
   "source": []
  },
  {
   "cell_type": "code",
   "execution_count": null,
   "id": "77e22edc",
   "metadata": {},
   "outputs": [],
   "source": []
  },
  {
   "cell_type": "code",
   "execution_count": null,
   "id": "0e3f93cd",
   "metadata": {},
   "outputs": [],
   "source": []
  },
  {
   "cell_type": "code",
   "execution_count": null,
   "id": "4de6c75c",
   "metadata": {},
   "outputs": [],
   "source": []
  },
  {
   "cell_type": "code",
   "execution_count": null,
   "id": "db2d3b52",
   "metadata": {},
   "outputs": [],
   "source": []
  },
  {
   "cell_type": "code",
   "execution_count": null,
   "id": "9094ff22",
   "metadata": {},
   "outputs": [],
   "source": []
  },
  {
   "cell_type": "code",
   "execution_count": null,
   "id": "b6869684",
   "metadata": {},
   "outputs": [],
   "source": []
  },
  {
   "cell_type": "code",
   "execution_count": null,
   "id": "30b96138",
   "metadata": {},
   "outputs": [],
   "source": []
  },
  {
   "cell_type": "code",
   "execution_count": null,
   "id": "5120c41c",
   "metadata": {},
   "outputs": [],
   "source": []
  },
  {
   "cell_type": "code",
   "execution_count": null,
   "id": "5f5d403a",
   "metadata": {},
   "outputs": [],
   "source": []
  },
  {
   "cell_type": "code",
   "execution_count": null,
   "id": "013692c4",
   "metadata": {},
   "outputs": [],
   "source": []
  },
  {
   "cell_type": "code",
   "execution_count": null,
   "id": "932e22ff",
   "metadata": {},
   "outputs": [],
   "source": []
  },
  {
   "cell_type": "code",
   "execution_count": null,
   "id": "bfc0bc68",
   "metadata": {},
   "outputs": [],
   "source": []
  },
  {
   "cell_type": "code",
   "execution_count": null,
   "id": "c032f9e1",
   "metadata": {},
   "outputs": [],
   "source": []
  },
  {
   "cell_type": "code",
   "execution_count": null,
   "id": "8daea90c",
   "metadata": {
    "scrolled": true
   },
   "outputs": [],
   "source": []
  },
  {
   "cell_type": "code",
   "execution_count": null,
   "id": "17f4f109",
   "metadata": {},
   "outputs": [],
   "source": []
  },
  {
   "cell_type": "code",
   "execution_count": null,
   "id": "cff1236d",
   "metadata": {},
   "outputs": [],
   "source": []
  },
  {
   "cell_type": "code",
   "execution_count": null,
   "id": "0717c7ef",
   "metadata": {},
   "outputs": [],
   "source": []
  }
 ],
 "metadata": {
  "kernelspec": {
   "display_name": "Python 3 (ipykernel)",
   "language": "python",
   "name": "python3"
  },
  "language_info": {
   "codemirror_mode": {
    "name": "ipython",
    "version": 3
   },
   "file_extension": ".py",
   "mimetype": "text/x-python",
   "name": "python",
   "nbconvert_exporter": "python",
   "pygments_lexer": "ipython3",
   "version": "3.11.5"
  }
 },
 "nbformat": 4,
 "nbformat_minor": 5
}
>>>>>>> c3e241562a9e78f712016eeeaf59b7cb7d036de1
