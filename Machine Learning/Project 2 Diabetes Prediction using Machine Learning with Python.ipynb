<<<<<<< HEAD
version https://git-lfs.github.com/spec/v1
oid sha256:34c1ff8597b635a1458d22f4cbdacd2fb934970f4101faa60b93be7a52bd5145
size 6444
=======
{
 "cells": [
  {
   "cell_type": "code",
   "execution_count": 42,
   "id": "07c1c83f",
   "metadata": {},
   "outputs": [
    {
     "name": "stdout",
     "output_type": "stream",
     "text": [
      "training accuracy 0.7866449511400652\n",
      "testing accuracy 0.7727272727272727\n",
      "[0]\n",
      "The person is not diabetes\n"
     ]
    }
   ],
   "source": [
    "import pandas as pd\n",
    "import numpy as np\n",
    "from sklearn.model_selection import train_test_split\n",
    "from sklearn.preprocessing import StandardScaler\n",
    "from sklearn.svm import SVC\n",
    "from sklearn.metrics import accuracy_score\n",
    "\n",
    "diabetes_data = pd.read_csv('diabetes.csv')\n",
    "# diabetes_data.head()\n",
    "\n",
    "X= diabetes_data.drop(columns='Outcome')\n",
    "Y= diabetes_data['Outcome']\n",
    "# print(X, Y)\n",
    "\n",
    "X_train, X_test, Y_train, Y_test = train_test_split(X, Y, test_size=0.2, stratify=Y, random_state=2)\n",
    "# print(X.shape, X_train.shape, X_test.shape)\n",
    "\n",
    "\n",
    "scaler = StandardScaler()\n",
    "scaler.fit(X_train)\n",
    "X_train = scaler.transform(X_train)\n",
    "X_test = scaler.transform(X_test)\n",
    "# print(X_train)\n",
    "\n",
    "classifier = SVC(kernel='linear')\n",
    "classifier.fit(X_train, Y_train)\n",
    "\n",
    "X_train_predicting = classifier.predict(X_train)\n",
    "X_train_accuracy = accuracy_score(X_train_predicting, Y_train)\n",
    "print(\"training accuracy\", X_train_accuracy)\n",
    "\n",
    "X_test_predicting = classifier.predict(X_test)\n",
    "X_test_accuracy = accuracy_score(Y_test, X_test_predicting)\n",
    "print(\"testing accuracy\", X_test_accuracy)\n",
    "\n",
    "\n",
    "input_data=(2, 120, 70, 20, 79, 25.1, 0.2, 33)\n",
    "\n",
    "diabetes_data_reshape = pd.DataFrame([input_data], columns=X.columns)\n",
    "\n",
    "# print(diabetes_data_reshape)\n",
    "predicting_data = scaler.transform(diabetes_data_reshape)\n",
    "output_data=classifier.predict(predicting_data)\n",
    "print(output_data)\n",
    "if (output_data[0] == 0):\n",
    "    print(\"The person is not diabetes\")\n",
    "else:\n",
    "    print(\"The person have a diabetes\")"
   ]
  },
  {
   "cell_type": "code",
   "execution_count": 43,
   "id": "ec50608f",
   "metadata": {},
   "outputs": [
    {
     "name": "stdout",
     "output_type": "stream",
     "text": [
      "✅ Training Accuracy: 0.7866449511400652\n",
      "✅ Testing Accuracy: 0.7727272727272727\n",
      "🔍 Prediction Output: [0]\n",
      "🟢 The person is **not diabetic**.\n"
     ]
    }
   ],
   "source": [
    "# -----------------------------------------\n",
    "# 📦 Step 1: Import Required Libraries\n",
    "# -----------------------------------------\n",
    "import pandas as pd\n",
    "import numpy as np\n",
    "from sklearn.model_selection import train_test_split\n",
    "from sklearn.preprocessing import StandardScaler\n",
    "from sklearn.svm import SVC\n",
    "from sklearn.metrics import accuracy_score\n",
    "\n",
    "# -----------------------------------------\n",
    "# 📂 Step 2: Load the Dataset\n",
    "# -----------------------------------------\n",
    "diabetes_data = pd.read_csv('diabetes.csv')\n",
    "\n",
    "# -----------------------------------------\n",
    "# 🔄 Step 3: Split Features and Target\n",
    "# -----------------------------------------\n",
    "X = diabetes_data.drop(columns='Outcome')   # Feature columns\n",
    "Y = diabetes_data['Outcome']                # Target column (0 or 1)\n",
    "\n",
    "# -----------------------------------------\n",
    "# 🔀 Step 4: Split into Train and Test Sets\n",
    "# -----------------------------------------\n",
    "X_train, X_test, Y_train, Y_test = train_test_split(\n",
    "    X, Y, test_size=0.2, stratify=Y, random_state=2\n",
    ")\n",
    "\n",
    "# -----------------------------------------\n",
    "# ⚖️ Step 5: Feature Scaling (Standardization)\n",
    "# -----------------------------------------\n",
    "scaler = StandardScaler()\n",
    "scaler.fit(X_train)                 # Fit only on training data\n",
    "X_train = scaler.transform(X_train)\n",
    "X_test = scaler.transform(X_test)\n",
    "\n",
    "# -----------------------------------------\n",
    "# 🤖 Step 6: Train the Model (SVM with Linear Kernel)\n",
    "# -----------------------------------------\n",
    "classifier = SVC(kernel='linear')\n",
    "classifier.fit(X_train, Y_train)\n",
    "\n",
    "# -----------------------------------------\n",
    "# 📈 Step 7: Evaluate the Model\n",
    "# -----------------------------------------\n",
    "# On training data\n",
    "X_train_predicting = classifier.predict(X_train)\n",
    "X_train_accuracy = accuracy_score(Y_train, X_train_predicting)\n",
    "print(\"✅ Training Accuracy:\", X_train_accuracy)\n",
    "\n",
    "# On test data\n",
    "X_test_predicting = classifier.predict(X_test)\n",
    "X_test_accuracy = accuracy_score(Y_test, X_test_predicting)\n",
    "print(\"✅ Testing Accuracy:\", X_test_accuracy)\n",
    "\n",
    "# -----------------------------------------\n",
    "# 🧪 Step 8: Predict on New Input Data\n",
    "# -----------------------------------------\n",
    "# Sample input: 8 feature values\n",
    "input_data = (5, 116, 74, 0, 0, 25.6, 0.201, 30)\n",
    "\n",
    "# Convert to DataFrame with correct column names\n",
    "input_df = pd.DataFrame([input_data], columns=X.columns)\n",
    "\n",
    "# Standardize the input using the same scaler\n",
    "input_scaled = scaler.transform(input_df)\n",
    "\n",
    "# Make prediction\n",
    "output = classifier.predict(input_scaled)\n",
    "\n",
    "# Show result\n",
    "print(\"🔍 Prediction Output:\", output)\n",
    "\n",
    "if output[0] == 0:\n",
    "    print(\"🟢 The person is **not diabetic**.\")\n",
    "else:\n",
    "    print(\"🔴 The person **has diabetes**.\")\n"
   ]
  }
 ],
 "metadata": {
  "kernelspec": {
   "display_name": "Python 3 (ipykernel)",
   "language": "python",
   "name": "python3"
  },
  "language_info": {
   "codemirror_mode": {
    "name": "ipython",
    "version": 3
   },
   "file_extension": ".py",
   "mimetype": "text/x-python",
   "name": "python",
   "nbconvert_exporter": "python",
   "pygments_lexer": "ipython3",
   "version": "3.11.5"
  }
 },
 "nbformat": 4,
 "nbformat_minor": 5
}
>>>>>>> c3e241562a9e78f712016eeeaf59b7cb7d036de1
